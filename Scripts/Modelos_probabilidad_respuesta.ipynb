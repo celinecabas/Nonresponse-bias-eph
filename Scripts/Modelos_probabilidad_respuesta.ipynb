{
 "cells": [
  {
   "cell_type": "markdown",
   "id": "06a84fe0-d6de-418f-a97f-f75160662aaa",
   "metadata": {},
   "source": [
    "# Modelos para probabilidad de respuesta"
   ]
  },
  {
   "cell_type": "markdown",
   "id": "066a8c92-8f44-43d8-8cec-a34c52958cac",
   "metadata": {},
   "source": [
    "Importamos librerías:"
   ]
  },
  {
   "cell_type": "code",
   "execution_count": 1,
   "id": "c5db444a-47e9-4c63-82de-f5a5ff1da220",
   "metadata": {},
   "outputs": [],
   "source": [
    "import os\n",
    "import numpy as np\n",
    "import pandas as pd\n",
    "from matplotlib.pyplot import subplots\n",
    "import statsmodels.api as sm\n",
    "from ISLP import load_data\n",
    "from ISLP.models import (ModelSpec as MS,\n",
    "                         summarize)"
   ]
  },
  {
   "cell_type": "code",
   "execution_count": 2,
   "id": "b9303e9c-2e78-4c35-97c9-1f3b70ceb245",
   "metadata": {},
   "outputs": [],
   "source": [
    "from ISLP import confusion_table\n",
    "from ISLP.models import contrast\n",
    "from sklearn.discriminant_analysis import \\\n",
    "     (LinearDiscriminantAnalysis as LDA,\n",
    "      QuadraticDiscriminantAnalysis as QDA)\n",
    "from sklearn.naive_bayes import GaussianNB\n",
    "from sklearn.neighbors import KNeighborsClassifier\n",
    "from sklearn.preprocessing import StandardScaler\n",
    "from sklearn.model_selection import train_test_split\n",
    "from sklearn.linear_model import LogisticRegression"
   ]
  },
  {
   "cell_type": "code",
   "execution_count": 24,
   "id": "44ecfb1a-32c2-4ecc-a685-3639ac43ca99",
   "metadata": {},
   "outputs": [],
   "source": [
    "from functools import partial\n",
    "from sklearn.model_selection import \\\n",
    "     (cross_validate,\n",
    "      KFold,\n",
    "      ShuffleSplit)\n",
    "from sklearn.base import clone\n",
    "from ISLP.models import sklearn_sm"
   ]
  },
  {
   "cell_type": "markdown",
   "id": "a5764e6d-6060-4d61-95fc-ac9b2ec962b8",
   "metadata": {},
   "source": [
    "Cambiamos directorio de trabajo:"
   ]
  },
  {
   "cell_type": "code",
   "execution_count": 3,
   "id": "7919fcde-77de-4577-9166-0130ee7cfe89",
   "metadata": {},
   "outputs": [
    {
     "name": "stdout",
     "output_type": "stream",
     "text": [
      "C:\\Users\\celin\\OneDrive\\Documentos\\CELINE\\FACULTAD\\Maestría en Estadística Aplicada\\4to semestre\\Tesis\\Nonresponse-bias-eph\n"
     ]
    }
   ],
   "source": [
    "os.chdir('C:/Users/celin/OneDrive/Documentos/CELINE/FACULTAD/Maestría en Estadística Aplicada/4to semestre/Tesis/Nonresponse-bias-eph')\n",
    "print(os.getcwd())"
   ]
  },
  {
   "cell_type": "markdown",
   "id": "e5bc25cc-7aee-4cd4-8439-d5a933614738",
   "metadata": {},
   "source": [
    "Cargamos la base de datos individual y hogar:"
   ]
  },
  {
   "cell_type": "code",
   "execution_count": 7,
   "id": "16ad3ea2-db76-4156-bf52-30a4278a8d42",
   "metadata": {},
   "outputs": [
    {
     "data": {
      "text/html": [
       "<div>\n",
       "<style scoped>\n",
       "    .dataframe tbody tr th:only-of-type {\n",
       "        vertical-align: middle;\n",
       "    }\n",
       "\n",
       "    .dataframe tbody tr th {\n",
       "        vertical-align: top;\n",
       "    }\n",
       "\n",
       "    .dataframe thead th {\n",
       "        text-align: right;\n",
       "    }\n",
       "</style>\n",
       "<table border=\"1\" class=\"dataframe\">\n",
       "  <thead>\n",
       "    <tr style=\"text-align: right;\">\n",
       "      <th></th>\n",
       "      <th>periodo</th>\n",
       "      <th>AGLOMERADO</th>\n",
       "      <th>ANO4</th>\n",
       "      <th>TRIMESTRE</th>\n",
       "      <th>CODUSU</th>\n",
       "      <th>NRO_HOGAR</th>\n",
       "      <th>REGION_DESC</th>\n",
       "      <th>REGION_COD</th>\n",
       "      <th>CH04</th>\n",
       "      <th>CH06</th>\n",
       "      <th>...</th>\n",
       "      <th>mujer</th>\n",
       "      <th>otros_ing_nolab</th>\n",
       "      <th>anio</th>\n",
       "      <th>casadounido</th>\n",
       "      <th>casadpto</th>\n",
       "      <th>leer</th>\n",
       "      <th>basural</th>\n",
       "      <th>n_entrevista</th>\n",
       "      <th>area</th>\n",
       "      <th>completo</th>\n",
       "    </tr>\n",
       "  </thead>\n",
       "  <tbody>\n",
       "    <tr>\n",
       "      <th>0</th>\n",
       "      <td>2023.25</td>\n",
       "      <td>15</td>\n",
       "      <td>2023</td>\n",
       "      <td>2</td>\n",
       "      <td>TQRMNOPPQHJMKNCDEGLDF00805128</td>\n",
       "      <td>1</td>\n",
       "      <td>Noreste</td>\n",
       "      <td>41</td>\n",
       "      <td>2</td>\n",
       "      <td>73</td>\n",
       "      <td>...</td>\n",
       "      <td>1</td>\n",
       "      <td>58000.0</td>\n",
       "      <td>2023</td>\n",
       "      <td>0</td>\n",
       "      <td>1</td>\n",
       "      <td>1</td>\n",
       "      <td>0</td>\n",
       "      <td>1</td>\n",
       "      <td>TQRMNOPP</td>\n",
       "      <td>0</td>\n",
       "    </tr>\n",
       "    <tr>\n",
       "      <th>1</th>\n",
       "      <td>2017.25</td>\n",
       "      <td>8</td>\n",
       "      <td>2017</td>\n",
       "      <td>2</td>\n",
       "      <td>TQRMNOPPQHJMKRCDEFOCD00472238</td>\n",
       "      <td>1</td>\n",
       "      <td>Noreste</td>\n",
       "      <td>41</td>\n",
       "      <td>1</td>\n",
       "      <td>62</td>\n",
       "      <td>...</td>\n",
       "      <td>0</td>\n",
       "      <td>0.0</td>\n",
       "      <td>2017</td>\n",
       "      <td>1</td>\n",
       "      <td>1</td>\n",
       "      <td>1</td>\n",
       "      <td>0</td>\n",
       "      <td>3</td>\n",
       "      <td>TQRMNOPP</td>\n",
       "      <td>1</td>\n",
       "    </tr>\n",
       "    <tr>\n",
       "      <th>2</th>\n",
       "      <td>2017.50</td>\n",
       "      <td>8</td>\n",
       "      <td>2017</td>\n",
       "      <td>3</td>\n",
       "      <td>TQRMNOPPQHJMKRCDEFOCD00472238</td>\n",
       "      <td>1</td>\n",
       "      <td>Noreste</td>\n",
       "      <td>41</td>\n",
       "      <td>1</td>\n",
       "      <td>62</td>\n",
       "      <td>...</td>\n",
       "      <td>0</td>\n",
       "      <td>0.0</td>\n",
       "      <td>2017</td>\n",
       "      <td>1</td>\n",
       "      <td>1</td>\n",
       "      <td>1</td>\n",
       "      <td>0</td>\n",
       "      <td>4</td>\n",
       "      <td>TQRMNOPP</td>\n",
       "      <td>1</td>\n",
       "    </tr>\n",
       "    <tr>\n",
       "      <th>3</th>\n",
       "      <td>2020.75</td>\n",
       "      <td>7</td>\n",
       "      <td>2020</td>\n",
       "      <td>4</td>\n",
       "      <td>TQRMNOPPQHJMLPCDEFNFF00670213</td>\n",
       "      <td>1</td>\n",
       "      <td>Noreste</td>\n",
       "      <td>41</td>\n",
       "      <td>2</td>\n",
       "      <td>52</td>\n",
       "      <td>...</td>\n",
       "      <td>1</td>\n",
       "      <td>0.0</td>\n",
       "      <td>2020</td>\n",
       "      <td>0</td>\n",
       "      <td>1</td>\n",
       "      <td>1</td>\n",
       "      <td>0</td>\n",
       "      <td>1</td>\n",
       "      <td>TQRMNOPP</td>\n",
       "      <td>1</td>\n",
       "    </tr>\n",
       "    <tr>\n",
       "      <th>4</th>\n",
       "      <td>2021.00</td>\n",
       "      <td>7</td>\n",
       "      <td>2021</td>\n",
       "      <td>1</td>\n",
       "      <td>TQRMNOPPQHJMLPCDEFNFF00670213</td>\n",
       "      <td>1</td>\n",
       "      <td>Noreste</td>\n",
       "      <td>41</td>\n",
       "      <td>2</td>\n",
       "      <td>52</td>\n",
       "      <td>...</td>\n",
       "      <td>1</td>\n",
       "      <td>0.0</td>\n",
       "      <td>2021</td>\n",
       "      <td>0</td>\n",
       "      <td>1</td>\n",
       "      <td>1</td>\n",
       "      <td>0</td>\n",
       "      <td>2</td>\n",
       "      <td>TQRMNOPP</td>\n",
       "      <td>1</td>\n",
       "    </tr>\n",
       "  </tbody>\n",
       "</table>\n",
       "<p>5 rows × 223 columns</p>\n",
       "</div>"
      ],
      "text/plain": [
       "   periodo  AGLOMERADO  ANO4  TRIMESTRE                         CODUSU  \\\n",
       "0  2023.25          15  2023          2  TQRMNOPPQHJMKNCDEGLDF00805128   \n",
       "1  2017.25           8  2017          2  TQRMNOPPQHJMKRCDEFOCD00472238   \n",
       "2  2017.50           8  2017          3  TQRMNOPPQHJMKRCDEFOCD00472238   \n",
       "3  2020.75           7  2020          4  TQRMNOPPQHJMLPCDEFNFF00670213   \n",
       "4  2021.00           7  2021          1  TQRMNOPPQHJMLPCDEFNFF00670213   \n",
       "\n",
       "   NRO_HOGAR REGION_DESC  REGION_COD  CH04  CH06  ...  mujer  otros_ing_nolab  \\\n",
       "0          1     Noreste          41     2    73  ...      1          58000.0   \n",
       "1          1     Noreste          41     1    62  ...      0              0.0   \n",
       "2          1     Noreste          41     1    62  ...      0              0.0   \n",
       "3          1     Noreste          41     2    52  ...      1              0.0   \n",
       "4          1     Noreste          41     2    52  ...      1              0.0   \n",
       "\n",
       "   anio casadounido  casadpto  leer basural  n_entrevista      area  completo  \n",
       "0  2023           0         1     1       0             1  TQRMNOPP         0  \n",
       "1  2017           1         1     1       0             3  TQRMNOPP         1  \n",
       "2  2017           1         1     1       0             4  TQRMNOPP         1  \n",
       "3  2020           0         1     1       0             1  TQRMNOPP         1  \n",
       "4  2021           0         1     1       0             2  TQRMNOPP         1  \n",
       "\n",
       "[5 rows x 223 columns]"
      ]
     },
     "execution_count": 7,
     "metadata": {},
     "output_type": "execute_result"
    }
   ],
   "source": [
    "individual_NEA = pd.read_table(\"Bases/individual_NEA_prediccion.txt\", delimiter = \";\", low_memory=False)\n",
    "individual_NEA.head()"
   ]
  },
  {
   "cell_type": "code",
   "execution_count": 9,
   "id": "940c9710-bb55-4ed4-864b-31a782abae44",
   "metadata": {},
   "outputs": [
    {
     "name": "stdout",
     "output_type": "stream",
     "text": [
      "<class 'pandas.core.frame.DataFrame'>\n",
      "RangeIndex: 34860 entries, 0 to 34859\n",
      "Columns: 223 entries, periodo to completo\n",
      "dtypes: float64(126), int64(78), object(19)\n",
      "memory usage: 59.3+ MB\n"
     ]
    }
   ],
   "source": [
    "individual_NEA.info()"
   ]
  },
  {
   "cell_type": "markdown",
   "id": "bcefa69e-0e82-48bc-98cc-1cf3ee9d9605",
   "metadata": {},
   "source": [
    "## Selección de variables, stepwise."
   ]
  },
  {
   "cell_type": "markdown",
   "id": "a8291e5b-3d7d-4c5a-be64-056cd439c685",
   "metadata": {},
   "source": [
    "## Modelo de regresión logístico"
   ]
  },
  {
   "cell_type": "markdown",
   "id": "8ae7281a-efdb-4e7d-b28b-b145cd1bcfe1",
   "metadata": {},
   "source": [
    "Dividimos la muestra en entrenamiento y test:"
   ]
  },
  {
   "cell_type": "code",
   "execution_count": 11,
   "id": "2cf6d0a1-ed71-4d60-a86a-da9ecd6413fc",
   "metadata": {},
   "outputs": [],
   "source": [
    "individual_NEA_train, individual_NEA_test = train_test_split(individual_NEA, test_size=0.30, random_state=0)"
   ]
  },
  {
   "cell_type": "code",
   "execution_count": 19,
   "id": "43217b62-f379-4a27-b01c-b734ef5d7b54",
   "metadata": {},
   "outputs": [
    {
     "data": {
      "text/plain": [
       "(24402, 223)"
      ]
     },
     "execution_count": 19,
     "metadata": {},
     "output_type": "execute_result"
    }
   ],
   "source": [
    "individual_NEA_train.shape "
   ]
  },
  {
   "cell_type": "code",
   "execution_count": 20,
   "id": "fa1e0eb4-a2e4-455a-bfe3-5571705a0c55",
   "metadata": {},
   "outputs": [
    {
     "data": {
      "text/plain": [
       "(10458, 223)"
      ]
     },
     "execution_count": 20,
     "metadata": {},
     "output_type": "execute_result"
    }
   ],
   "source": [
    "individual_NEA_test.shape"
   ]
  },
  {
   "cell_type": "code",
   "execution_count": 49,
   "id": "7ac22773-017a-464f-b691-6d3686763495",
   "metadata": {},
   "outputs": [
    {
     "data": {
      "text/plain": [
       "Index(['logIPCF_d', 'completo', 'CH06', 'IX_TOT', 'casadpto', 'basural',\n",
       "       'leer', 'NIVEL_ED', 'mujer', 'casadounido', 'ESTADO', 'CAT_INAC',\n",
       "       'CAT_OCUP', 'otros_ing_nolab', 'informal'],\n",
       "      dtype='object')"
      ]
     },
     "execution_count": 49,
     "metadata": {},
     "output_type": "execute_result"
    }
   ],
   "source": [
    "allvars = individual_NEA[['logIPCF_d','completo', 'CH06','IX_TOT','casadpto','basural','leer','NIVEL_ED','mujer',\n",
    "                                'casadounido','ESTADO','CAT_INAC','CAT_OCUP','otros_ing_nolab','informal']].columns\n",
    "allvars"
   ]
  },
  {
   "cell_type": "code",
   "execution_count": 50,
   "id": "bdceac57-e68a-4903-8576-eecef89f8e73",
   "metadata": {},
   "outputs": [
    {
     "ename": "ValueError",
     "evalue": "Found input variables with inconsistent numbers of samples: [1, 34860]",
     "output_type": "error",
     "traceback": [
      "\u001b[1;31m---------------------------------------------------------------------------\u001b[0m",
      "\u001b[1;31mValueError\u001b[0m                                Traceback (most recent call last)",
      "Cell \u001b[1;32mIn[50], line 11\u001b[0m\n\u001b[0;32m      8\u001b[0m X \u001b[38;5;241m=\u001b[39m individual_NEA[[\u001b[38;5;124m'\u001b[39m\u001b[38;5;124mlogIPCF_d\u001b[39m\u001b[38;5;124m'\u001b[39m,\u001b[38;5;124m'\u001b[39m\u001b[38;5;124mcompleto\u001b[39m\u001b[38;5;124m'\u001b[39m, \u001b[38;5;124m'\u001b[39m\u001b[38;5;124mCH06\u001b[39m\u001b[38;5;124m'\u001b[39m,\u001b[38;5;124m'\u001b[39m\u001b[38;5;124mIX_TOT\u001b[39m\u001b[38;5;124m'\u001b[39m,\u001b[38;5;124m'\u001b[39m\u001b[38;5;124mcasadpto\u001b[39m\u001b[38;5;124m'\u001b[39m,\u001b[38;5;124m'\u001b[39m\u001b[38;5;124mbasural\u001b[39m\u001b[38;5;124m'\u001b[39m,\u001b[38;5;124m'\u001b[39m\u001b[38;5;124mleer\u001b[39m\u001b[38;5;124m'\u001b[39m,\u001b[38;5;124m'\u001b[39m\u001b[38;5;124mNIVEL_ED\u001b[39m\u001b[38;5;124m'\u001b[39m,\u001b[38;5;124m'\u001b[39m\u001b[38;5;124mmujer\u001b[39m\u001b[38;5;124m'\u001b[39m,\n\u001b[0;32m      9\u001b[0m                                 \u001b[38;5;124m'\u001b[39m\u001b[38;5;124mcasadounido\u001b[39m\u001b[38;5;124m'\u001b[39m,\u001b[38;5;124m'\u001b[39m\u001b[38;5;124mESTADO\u001b[39m\u001b[38;5;124m'\u001b[39m,\u001b[38;5;124m'\u001b[39m\u001b[38;5;124mCAT_INAC\u001b[39m\u001b[38;5;124m'\u001b[39m,\u001b[38;5;124m'\u001b[39m\u001b[38;5;124mCAT_OCUP\u001b[39m\u001b[38;5;124m'\u001b[39m,\u001b[38;5;124m'\u001b[39m\u001b[38;5;124motros_ing_nolab\u001b[39m\u001b[38;5;124m'\u001b[39m,\u001b[38;5;124m'\u001b[39m\u001b[38;5;124minformal\u001b[39m\u001b[38;5;124m'\u001b[39m]], \n\u001b[0;32m     10\u001b[0m Y \u001b[38;5;241m=\u001b[39m individual_NEA[\u001b[38;5;124m'\u001b[39m\u001b[38;5;124mcompleto\u001b[39m\u001b[38;5;124m'\u001b[39m]\n\u001b[1;32m---> 11\u001b[0m cv_results \u001b[38;5;241m=\u001b[39m cross_validate(hp_model,\n\u001b[0;32m     12\u001b[0m                             X,\n\u001b[0;32m     13\u001b[0m                             Y,\n\u001b[0;32m     14\u001b[0m                             cv\u001b[38;5;241m=\u001b[39mcv)\n\u001b[0;32m     15\u001b[0m cv_err \u001b[38;5;241m=\u001b[39m np\u001b[38;5;241m.\u001b[39mmean(cv_results[\u001b[38;5;124m'\u001b[39m\u001b[38;5;124mtest_score\u001b[39m\u001b[38;5;124m'\u001b[39m])\n\u001b[0;32m     16\u001b[0m cv_err\n",
      "File \u001b[1;32m~\\anaconda3\\envs\\islp\\Lib\\site-packages\\sklearn\\utils\\_param_validation.py:216\u001b[0m, in \u001b[0;36mvalidate_params.<locals>.decorator.<locals>.wrapper\u001b[1;34m(*args, **kwargs)\u001b[0m\n\u001b[0;32m    210\u001b[0m \u001b[38;5;28;01mtry\u001b[39;00m:\n\u001b[0;32m    211\u001b[0m     \u001b[38;5;28;01mwith\u001b[39;00m config_context(\n\u001b[0;32m    212\u001b[0m         skip_parameter_validation\u001b[38;5;241m=\u001b[39m(\n\u001b[0;32m    213\u001b[0m             prefer_skip_nested_validation \u001b[38;5;129;01mor\u001b[39;00m global_skip_validation\n\u001b[0;32m    214\u001b[0m         )\n\u001b[0;32m    215\u001b[0m     ):\n\u001b[1;32m--> 216\u001b[0m         \u001b[38;5;28;01mreturn\u001b[39;00m func(\u001b[38;5;241m*\u001b[39margs, \u001b[38;5;241m*\u001b[39m\u001b[38;5;241m*\u001b[39mkwargs)\n\u001b[0;32m    217\u001b[0m \u001b[38;5;28;01mexcept\u001b[39;00m InvalidParameterError \u001b[38;5;28;01mas\u001b[39;00m e:\n\u001b[0;32m    218\u001b[0m     \u001b[38;5;66;03m# When the function is just a wrapper around an estimator, we allow\u001b[39;00m\n\u001b[0;32m    219\u001b[0m     \u001b[38;5;66;03m# the function to delegate validation to the estimator, but we replace\u001b[39;00m\n\u001b[0;32m    220\u001b[0m     \u001b[38;5;66;03m# the name of the estimator by the name of the function in the error\u001b[39;00m\n\u001b[0;32m    221\u001b[0m     \u001b[38;5;66;03m# message to avoid confusion.\u001b[39;00m\n\u001b[0;32m    222\u001b[0m     msg \u001b[38;5;241m=\u001b[39m re\u001b[38;5;241m.\u001b[39msub(\n\u001b[0;32m    223\u001b[0m         \u001b[38;5;124mr\u001b[39m\u001b[38;5;124m\"\u001b[39m\u001b[38;5;124mparameter of \u001b[39m\u001b[38;5;124m\\\u001b[39m\u001b[38;5;124mw+ must be\u001b[39m\u001b[38;5;124m\"\u001b[39m,\n\u001b[0;32m    224\u001b[0m         \u001b[38;5;124mf\u001b[39m\u001b[38;5;124m\"\u001b[39m\u001b[38;5;124mparameter of \u001b[39m\u001b[38;5;132;01m{\u001b[39;00mfunc\u001b[38;5;241m.\u001b[39m\u001b[38;5;18m__qualname__\u001b[39m\u001b[38;5;132;01m}\u001b[39;00m\u001b[38;5;124m must be\u001b[39m\u001b[38;5;124m\"\u001b[39m,\n\u001b[0;32m    225\u001b[0m         \u001b[38;5;28mstr\u001b[39m(e),\n\u001b[0;32m    226\u001b[0m     )\n",
      "File \u001b[1;32m~\\anaconda3\\envs\\islp\\Lib\\site-packages\\sklearn\\model_selection\\_validation.py:345\u001b[0m, in \u001b[0;36mcross_validate\u001b[1;34m(estimator, X, y, groups, scoring, cv, n_jobs, verbose, params, pre_dispatch, return_train_score, return_estimator, return_indices, error_score)\u001b[0m\n\u001b[0;32m    142\u001b[0m \u001b[38;5;250m\u001b[39m\u001b[38;5;124;03m\"\"\"Evaluate metric(s) by cross-validation and also record fit/score times.\u001b[39;00m\n\u001b[0;32m    143\u001b[0m \n\u001b[0;32m    144\u001b[0m \u001b[38;5;124;03mRead more in the :ref:`User Guide <multimetric_cross_validation>`.\u001b[39;00m\n\u001b[1;32m   (...)\u001b[0m\n\u001b[0;32m    341\u001b[0m \u001b[38;5;124;03m[0.28009951 0.3908844  0.22784907]\u001b[39;00m\n\u001b[0;32m    342\u001b[0m \u001b[38;5;124;03m\"\"\"\u001b[39;00m\n\u001b[0;32m    343\u001b[0m _check_groups_routing_disabled(groups)\n\u001b[1;32m--> 345\u001b[0m X, y \u001b[38;5;241m=\u001b[39m indexable(X, y)\n\u001b[0;32m    346\u001b[0m params \u001b[38;5;241m=\u001b[39m {} \u001b[38;5;28;01mif\u001b[39;00m params \u001b[38;5;129;01mis\u001b[39;00m \u001b[38;5;28;01mNone\u001b[39;00m \u001b[38;5;28;01melse\u001b[39;00m params\n\u001b[0;32m    347\u001b[0m cv \u001b[38;5;241m=\u001b[39m check_cv(cv, y, classifier\u001b[38;5;241m=\u001b[39mis_classifier(estimator))\n",
      "File \u001b[1;32m~\\anaconda3\\envs\\islp\\Lib\\site-packages\\sklearn\\utils\\validation.py:532\u001b[0m, in \u001b[0;36mindexable\u001b[1;34m(*iterables)\u001b[0m\n\u001b[0;32m    502\u001b[0m \u001b[38;5;250m\u001b[39m\u001b[38;5;124;03m\"\"\"Make arrays indexable for cross-validation.\u001b[39;00m\n\u001b[0;32m    503\u001b[0m \n\u001b[0;32m    504\u001b[0m \u001b[38;5;124;03mChecks consistent length, passes through None, and ensures that everything\u001b[39;00m\n\u001b[1;32m   (...)\u001b[0m\n\u001b[0;32m    528\u001b[0m \u001b[38;5;124;03m[[1, 2, 3], array([2, 3, 4]), None, <...Sparse...dtype 'int64'...shape (3, 1)>]\u001b[39;00m\n\u001b[0;32m    529\u001b[0m \u001b[38;5;124;03m\"\"\"\u001b[39;00m\n\u001b[0;32m    531\u001b[0m result \u001b[38;5;241m=\u001b[39m [_make_indexable(X) \u001b[38;5;28;01mfor\u001b[39;00m X \u001b[38;5;129;01min\u001b[39;00m iterables]\n\u001b[1;32m--> 532\u001b[0m check_consistent_length(\u001b[38;5;241m*\u001b[39mresult)\n\u001b[0;32m    533\u001b[0m \u001b[38;5;28;01mreturn\u001b[39;00m result\n",
      "File \u001b[1;32m~\\anaconda3\\envs\\islp\\Lib\\site-packages\\sklearn\\utils\\validation.py:475\u001b[0m, in \u001b[0;36mcheck_consistent_length\u001b[1;34m(*arrays)\u001b[0m\n\u001b[0;32m    473\u001b[0m uniques \u001b[38;5;241m=\u001b[39m np\u001b[38;5;241m.\u001b[39munique(lengths)\n\u001b[0;32m    474\u001b[0m \u001b[38;5;28;01mif\u001b[39;00m \u001b[38;5;28mlen\u001b[39m(uniques) \u001b[38;5;241m>\u001b[39m \u001b[38;5;241m1\u001b[39m:\n\u001b[1;32m--> 475\u001b[0m     \u001b[38;5;28;01mraise\u001b[39;00m \u001b[38;5;167;01mValueError\u001b[39;00m(\n\u001b[0;32m    476\u001b[0m         \u001b[38;5;124m\"\u001b[39m\u001b[38;5;124mFound input variables with inconsistent numbers of samples: \u001b[39m\u001b[38;5;132;01m%r\u001b[39;00m\u001b[38;5;124m\"\u001b[39m\n\u001b[0;32m    477\u001b[0m         \u001b[38;5;241m%\u001b[39m [\u001b[38;5;28mint\u001b[39m(l) \u001b[38;5;28;01mfor\u001b[39;00m l \u001b[38;5;129;01min\u001b[39;00m lengths]\n\u001b[0;32m    478\u001b[0m     )\n",
      "\u001b[1;31mValueError\u001b[0m: Found input variables with inconsistent numbers of samples: [1, 34860]"
     ]
    }
   ],
   "source": [
    "hp_model = sklearn_sm(sm.GLM,\n",
    "                      MS(allvars))\n",
    "\n",
    "cv = KFold(n_splits=10,\n",
    "           shuffle=True,\n",
    "           random_state=0) # use same splits for each degree\n",
    "\n",
    "X = individual_NEA[['logIPCF_d','completo', 'CH06','IX_TOT','casadpto','basural','leer','NIVEL_ED','mujer',\n",
    "                                'casadounido','ESTADO','CAT_INAC','CAT_OCUP','otros_ing_nolab','informal']], \n",
    "Y = individual_NEA['completo']\n",
    "cv_results = cross_validate(hp_model,\n",
    "                            X,\n",
    "                            Y,\n",
    "                            cv=cv)\n",
    "cv_err = np.mean(cv_results['test_score'])\n",
    "cv_err"
   ]
  },
  {
   "cell_type": "code",
   "execution_count": null,
   "id": "95fdeb10-4d1a-43ff-aa5e-d0030ab35cde",
   "metadata": {},
   "outputs": [],
   "source": []
  }
 ],
 "metadata": {
  "kernelspec": {
   "display_name": "Python 3 (ipykernel)",
   "language": "python",
   "name": "python3"
  },
  "language_info": {
   "codemirror_mode": {
    "name": "ipython",
    "version": 3
   },
   "file_extension": ".py",
   "mimetype": "text/x-python",
   "name": "python",
   "nbconvert_exporter": "python",
   "pygments_lexer": "ipython3",
   "version": "3.12.9"
  }
 },
 "nbformat": 4,
 "nbformat_minor": 5
}
