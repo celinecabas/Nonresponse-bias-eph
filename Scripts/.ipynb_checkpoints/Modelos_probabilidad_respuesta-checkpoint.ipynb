{
 "cells": [
  {
   "cell_type": "markdown",
   "id": "06a84fe0-d6de-418f-a97f-f75160662aaa",
   "metadata": {},
   "source": [
    "# Modelos para probabilidad de respuesta"
   ]
  },
  {
   "cell_type": "markdown",
   "id": "066a8c92-8f44-43d8-8cec-a34c52958cac",
   "metadata": {},
   "source": [
    "Importamos librerías:"
   ]
  },
  {
   "cell_type": "code",
   "execution_count": 1,
   "id": "c5db444a-47e9-4c63-82de-f5a5ff1da220",
   "metadata": {},
   "outputs": [],
   "source": [
    "import os\n",
    "import numpy as np\n",
    "import pandas as pd\n",
    "from matplotlib.pyplot import subplots\n",
    "import statsmodels.api as sm\n",
    "from ISLP import load_data\n",
    "from ISLP.models import (ModelSpec as MS,\n",
    "                         summarize)"
   ]
  },
  {
   "cell_type": "code",
   "execution_count": 2,
   "id": "b9303e9c-2e78-4c35-97c9-1f3b70ceb245",
   "metadata": {},
   "outputs": [],
   "source": [
    "from ISLP import confusion_table\n",
    "from ISLP.models import contrast\n",
    "from sklearn.discriminant_analysis import \\\n",
    "     (LinearDiscriminantAnalysis as LDA,\n",
    "      QuadraticDiscriminantAnalysis as QDA)\n",
    "from sklearn.naive_bayes import GaussianNB\n",
    "from sklearn.neighbors import KNeighborsClassifier\n",
    "from sklearn.preprocessing import StandardScaler\n",
    "from sklearn.model_selection import train_test_split\n",
    "from sklearn.linear_model import LogisticRegression"
   ]
  },
  {
   "cell_type": "code",
   "execution_count": 24,
   "id": "44ecfb1a-32c2-4ecc-a685-3639ac43ca99",
   "metadata": {},
   "outputs": [],
   "source": [
    "from functools import partial\n",
    "from sklearn.model_selection import \\\n",
    "     (cross_validate,\n",
    "      KFold,\n",
    "      ShuffleSplit)\n",
    "from sklearn.base import clone\n",
    "from ISLP.models import sklearn_sm"
   ]
  },
  {
   "cell_type": "markdown",
   "id": "a5764e6d-6060-4d61-95fc-ac9b2ec962b8",
   "metadata": {},
   "source": [
    "Cambiamos directorio de trabajo:"
   ]
  },
  {
   "cell_type": "code",
   "execution_count": 3,
   "id": "7919fcde-77de-4577-9166-0130ee7cfe89",
   "metadata": {},
   "outputs": [
    {
     "name": "stdout",
     "output_type": "stream",
     "text": [
      "C:\\Users\\celin\\OneDrive\\Documentos\\CELINE\\FACULTAD\\Maestría en Estadística Aplicada\\4to semestre\\Tesis\\Nonresponse-bias-eph\n"
     ]
    }
   ],
   "source": [
    "os.chdir('C:/Users/celin/OneDrive/Documentos/CELINE/FACULTAD/Maestría en Estadística Aplicada/4to semestre/Tesis/Nonresponse-bias-eph')\n",
    "print(os.getcwd())"
   ]
  },
  {
   "cell_type": "markdown",
   "id": "e5bc25cc-7aee-4cd4-8439-d5a933614738",
   "metadata": {},
   "source": [
    "Cargamos la base de datos individual y hogar:"
   ]
  },
  {
   "cell_type": "code",
   "execution_count": 7,
   "id": "16ad3ea2-db76-4156-bf52-30a4278a8d42",
   "metadata": {},
   "outputs": [
    {
     "data": {
      "text/html": [
       "<div>\n",
       "<style scoped>\n",
       "    .dataframe tbody tr th:only-of-type {\n",
       "        vertical-align: middle;\n",
       "    }\n",
       "\n",
       "    .dataframe tbody tr th {\n",
       "        vertical-align: top;\n",
       "    }\n",
       "\n",
       "    .dataframe thead th {\n",
       "        text-align: right;\n",
       "    }\n",
       "</style>\n",
       "<table border=\"1\" class=\"dataframe\">\n",
       "  <thead>\n",
       "    <tr style=\"text-align: right;\">\n",
       "      <th></th>\n",
       "      <th>periodo</th>\n",
       "      <th>AGLOMERADO</th>\n",
       "      <th>ANO4</th>\n",
       "      <th>TRIMESTRE</th>\n",
       "      <th>CODUSU</th>\n",
       "      <th>NRO_HOGAR</th>\n",
       "      <th>REGION_DESC</th>\n",
       "      <th>REGION_COD</th>\n",
       "      <th>CH04</th>\n",
       "      <th>CH06</th>\n",
       "      <th>...</th>\n",
       "      <th>mujer</th>\n",
       "      <th>otros_ing_nolab</th>\n",
       "      <th>anio</th>\n",
       "      <th>casadounido</th>\n",
       "      <th>casadpto</th>\n",
       "      <th>leer</th>\n",
       "      <th>basural</th>\n",
       "      <th>n_entrevista</th>\n",
       "      <th>area</th>\n",
       "      <th>completo</th>\n",
       "    </tr>\n",
       "  </thead>\n",
       "  <tbody>\n",
       "    <tr>\n",
       "      <th>0</th>\n",
       "      <td>2023.25</td>\n",
       "      <td>15</td>\n",
       "      <td>2023</td>\n",
       "      <td>2</td>\n",
       "      <td>TQRMNOPPQHJMKNCDEGLDF00805128</td>\n",
       "      <td>1</td>\n",
       "      <td>Noreste</td>\n",
       "      <td>41</td>\n",
       "      <td>2</td>\n",
       "      <td>73</td>\n",
       "      <td>...</td>\n",
       "      <td>1</td>\n",
       "      <td>58000.0</td>\n",
       "      <td>2023</td>\n",
       "      <td>0</td>\n",
       "      <td>1</td>\n",
       "      <td>1</td>\n",
       "      <td>0</td>\n",
       "      <td>1</td>\n",
       "      <td>TQRMNOPP</td>\n",
       "      <td>0</td>\n",
       "    </tr>\n",
       "    <tr>\n",
       "      <th>1</th>\n",
       "      <td>2017.25</td>\n",
       "      <td>8</td>\n",
       "      <td>2017</td>\n",
       "      <td>2</td>\n",
       "      <td>TQRMNOPPQHJMKRCDEFOCD00472238</td>\n",
       "      <td>1</td>\n",
       "      <td>Noreste</td>\n",
       "      <td>41</td>\n",
       "      <td>1</td>\n",
       "      <td>62</td>\n",
       "      <td>...</td>\n",
       "      <td>0</td>\n",
       "      <td>0.0</td>\n",
       "      <td>2017</td>\n",
       "      <td>1</td>\n",
       "      <td>1</td>\n",
       "      <td>1</td>\n",
       "      <td>0</td>\n",
       "      <td>3</td>\n",
       "      <td>TQRMNOPP</td>\n",
       "      <td>1</td>\n",
       "    </tr>\n",
       "    <tr>\n",
       "      <th>2</th>\n",
       "      <td>2017.50</td>\n",
       "      <td>8</td>\n",
       "      <td>2017</td>\n",
       "      <td>3</td>\n",
       "      <td>TQRMNOPPQHJMKRCDEFOCD00472238</td>\n",
       "      <td>1</td>\n",
       "      <td>Noreste</td>\n",
       "      <td>41</td>\n",
       "      <td>1</td>\n",
       "      <td>62</td>\n",
       "      <td>...</td>\n",
       "      <td>0</td>\n",
       "      <td>0.0</td>\n",
       "      <td>2017</td>\n",
       "      <td>1</td>\n",
       "      <td>1</td>\n",
       "      <td>1</td>\n",
       "      <td>0</td>\n",
       "      <td>4</td>\n",
       "      <td>TQRMNOPP</td>\n",
       "      <td>1</td>\n",
       "    </tr>\n",
       "    <tr>\n",
       "      <th>3</th>\n",
       "      <td>2020.75</td>\n",
       "      <td>7</td>\n",
       "      <td>2020</td>\n",
       "      <td>4</td>\n",
       "      <td>TQRMNOPPQHJMLPCDEFNFF00670213</td>\n",
       "      <td>1</td>\n",
       "      <td>Noreste</td>\n",
       "      <td>41</td>\n",
       "      <td>2</td>\n",
       "      <td>52</td>\n",
       "      <td>...</td>\n",
       "      <td>1</td>\n",
       "      <td>0.0</td>\n",
       "      <td>2020</td>\n",
       "      <td>0</td>\n",
       "      <td>1</td>\n",
       "      <td>1</td>\n",
       "      <td>0</td>\n",
       "      <td>1</td>\n",
       "      <td>TQRMNOPP</td>\n",
       "      <td>1</td>\n",
       "    </tr>\n",
       "    <tr>\n",
       "      <th>4</th>\n",
       "      <td>2021.00</td>\n",
       "      <td>7</td>\n",
       "      <td>2021</td>\n",
       "      <td>1</td>\n",
       "      <td>TQRMNOPPQHJMLPCDEFNFF00670213</td>\n",
       "      <td>1</td>\n",
       "      <td>Noreste</td>\n",
       "      <td>41</td>\n",
       "      <td>2</td>\n",
       "      <td>52</td>\n",
       "      <td>...</td>\n",
       "      <td>1</td>\n",
       "      <td>0.0</td>\n",
       "      <td>2021</td>\n",
       "      <td>0</td>\n",
       "      <td>1</td>\n",
       "      <td>1</td>\n",
       "      <td>0</td>\n",
       "      <td>2</td>\n",
       "      <td>TQRMNOPP</td>\n",
       "      <td>1</td>\n",
       "    </tr>\n",
       "  </tbody>\n",
       "</table>\n",
       "<p>5 rows × 223 columns</p>\n",
       "</div>"
      ],
      "text/plain": [
       "   periodo  AGLOMERADO  ANO4  TRIMESTRE                         CODUSU  \\\n",
       "0  2023.25          15  2023          2  TQRMNOPPQHJMKNCDEGLDF00805128   \n",
       "1  2017.25           8  2017          2  TQRMNOPPQHJMKRCDEFOCD00472238   \n",
       "2  2017.50           8  2017          3  TQRMNOPPQHJMKRCDEFOCD00472238   \n",
       "3  2020.75           7  2020          4  TQRMNOPPQHJMLPCDEFNFF00670213   \n",
       "4  2021.00           7  2021          1  TQRMNOPPQHJMLPCDEFNFF00670213   \n",
       "\n",
       "   NRO_HOGAR REGION_DESC  REGION_COD  CH04  CH06  ...  mujer  otros_ing_nolab  \\\n",
       "0          1     Noreste          41     2    73  ...      1          58000.0   \n",
       "1          1     Noreste          41     1    62  ...      0              0.0   \n",
       "2          1     Noreste          41     1    62  ...      0              0.0   \n",
       "3          1     Noreste          41     2    52  ...      1              0.0   \n",
       "4          1     Noreste          41     2    52  ...      1              0.0   \n",
       "\n",
       "   anio casadounido  casadpto  leer basural  n_entrevista      area  completo  \n",
       "0  2023           0         1     1       0             1  TQRMNOPP         0  \n",
       "1  2017           1         1     1       0             3  TQRMNOPP         1  \n",
       "2  2017           1         1     1       0             4  TQRMNOPP         1  \n",
       "3  2020           0         1     1       0             1  TQRMNOPP         1  \n",
       "4  2021           0         1     1       0             2  TQRMNOPP         1  \n",
       "\n",
       "[5 rows x 223 columns]"
      ]
     },
     "execution_count": 7,
     "metadata": {},
     "output_type": "execute_result"
    }
   ],
   "source": [
    "individual_NEA = pd.read_table(\"Bases/individual_NEA_prediccion.txt\", delimiter = \";\", low_memory=False)\n",
    "individual_NEA.head()"
   ]
  },
  {
   "cell_type": "code",
   "execution_count": 9,
   "id": "940c9710-bb55-4ed4-864b-31a782abae44",
   "metadata": {},
   "outputs": [
    {
     "name": "stdout",
     "output_type": "stream",
     "text": [
      "<class 'pandas.core.frame.DataFrame'>\n",
      "RangeIndex: 34860 entries, 0 to 34859\n",
      "Columns: 223 entries, periodo to completo\n",
      "dtypes: float64(126), int64(78), object(19)\n",
      "memory usage: 59.3+ MB\n"
     ]
    }
   ],
   "source": [
    "individual_NEA.info()"
   ]
  },
  {
   "cell_type": "markdown",
   "id": "bcefa69e-0e82-48bc-98cc-1cf3ee9d9605",
   "metadata": {},
   "source": [
    "## Selección de variables, stepwise."
   ]
  },
  {
   "cell_type": "markdown",
   "id": "a8291e5b-3d7d-4c5a-be64-056cd439c685",
   "metadata": {},
   "source": [
    "## Modelo de regresión logístico"
   ]
  },
  {
   "cell_type": "markdown",
   "id": "8ae7281a-efdb-4e7d-b28b-b145cd1bcfe1",
   "metadata": {},
   "source": [
    "Dividimos la muestra en entrenamiento y test:"
   ]
  },
  {
   "cell_type": "code",
   "execution_count": 11,
   "id": "2cf6d0a1-ed71-4d60-a86a-da9ecd6413fc",
   "metadata": {},
   "outputs": [],
   "source": [
    "individual_NEA_train, individual_NEA_test = train_test_split(individual_NEA, test_size=0.30, random_state=0)"
   ]
  },
  {
   "cell_type": "code",
   "execution_count": 19,
   "id": "43217b62-f379-4a27-b01c-b734ef5d7b54",
   "metadata": {},
   "outputs": [
    {
     "data": {
      "text/plain": [
       "(24402, 223)"
      ]
     },
     "execution_count": 19,
     "metadata": {},
     "output_type": "execute_result"
    }
   ],
   "source": [
    "individual_NEA_train.shape "
   ]
  },
  {
   "cell_type": "code",
   "execution_count": 20,
   "id": "fa1e0eb4-a2e4-455a-bfe3-5571705a0c55",
   "metadata": {},
   "outputs": [
    {
     "data": {
      "text/plain": [
       "(10458, 223)"
      ]
     },
     "execution_count": 20,
     "metadata": {},
     "output_type": "execute_result"
    }
   ],
   "source": [
    "individual_NEA_test.shape"
   ]
  },
  {
   "cell_type": "code",
   "execution_count": 31,
   "id": "7ac22773-017a-464f-b691-6d3686763495",
   "metadata": {},
   "outputs": [
    {
     "data": {
      "text/html": [
       "<div>\n",
       "<style scoped>\n",
       "    .dataframe tbody tr th:only-of-type {\n",
       "        vertical-align: middle;\n",
       "    }\n",
       "\n",
       "    .dataframe tbody tr th {\n",
       "        vertical-align: top;\n",
       "    }\n",
       "\n",
       "    .dataframe thead th {\n",
       "        text-align: right;\n",
       "    }\n",
       "</style>\n",
       "<table border=\"1\" class=\"dataframe\">\n",
       "  <thead>\n",
       "    <tr style=\"text-align: right;\">\n",
       "      <th></th>\n",
       "      <th>logIPCF_d</th>\n",
       "      <th>completo</th>\n",
       "    </tr>\n",
       "  </thead>\n",
       "  <tbody>\n",
       "    <tr>\n",
       "      <th>22305</th>\n",
       "      <td>8.835118</td>\n",
       "      <td>0</td>\n",
       "    </tr>\n",
       "    <tr>\n",
       "      <th>11152</th>\n",
       "      <td>8.283313</td>\n",
       "      <td>0</td>\n",
       "    </tr>\n",
       "    <tr>\n",
       "      <th>21485</th>\n",
       "      <td>8.425178</td>\n",
       "      <td>1</td>\n",
       "    </tr>\n",
       "    <tr>\n",
       "      <th>31022</th>\n",
       "      <td>7.955097</td>\n",
       "      <td>0</td>\n",
       "    </tr>\n",
       "    <tr>\n",
       "      <th>18688</th>\n",
       "      <td>8.781745</td>\n",
       "      <td>1</td>\n",
       "    </tr>\n",
       "    <tr>\n",
       "      <th>...</th>\n",
       "      <td>...</td>\n",
       "      <td>...</td>\n",
       "    </tr>\n",
       "    <tr>\n",
       "      <th>20757</th>\n",
       "      <td>8.365115</td>\n",
       "      <td>1</td>\n",
       "    </tr>\n",
       "    <tr>\n",
       "      <th>32103</th>\n",
       "      <td>8.688219</td>\n",
       "      <td>1</td>\n",
       "    </tr>\n",
       "    <tr>\n",
       "      <th>30403</th>\n",
       "      <td>10.485847</td>\n",
       "      <td>1</td>\n",
       "    </tr>\n",
       "    <tr>\n",
       "      <th>21243</th>\n",
       "      <td>8.587530</td>\n",
       "      <td>1</td>\n",
       "    </tr>\n",
       "    <tr>\n",
       "      <th>2732</th>\n",
       "      <td>8.637459</td>\n",
       "      <td>1</td>\n",
       "    </tr>\n",
       "  </tbody>\n",
       "</table>\n",
       "<p>24402 rows × 2 columns</p>\n",
       "</div>"
      ],
      "text/plain": [
       "       logIPCF_d  completo\n",
       "22305   8.835118         0\n",
       "11152   8.283313         0\n",
       "21485   8.425178         1\n",
       "31022   7.955097         0\n",
       "18688   8.781745         1\n",
       "...          ...       ...\n",
       "20757   8.365115         1\n",
       "32103   8.688219         1\n",
       "30403  10.485847         1\n",
       "21243   8.587530         1\n",
       "2732    8.637459         1\n",
       "\n",
       "[24402 rows x 2 columns]"
      ]
     },
     "execution_count": 31,
     "metadata": {},
     "output_type": "execute_result"
    }
   ],
   "source": [
    "allvars = individual_NEA_train.columns([,])\n",
    "individual_NEA_train[['logIPCF_d','completo']]"
   ]
  },
  {
   "cell_type": "code",
   "execution_count": null,
   "id": "bdceac57-e68a-4903-8576-eecef89f8e73",
   "metadata": {},
   "outputs": [],
   "source": [
    "hp_model = sklearn_sm(sm.GLM,\n",
    "                      MS(allvars))\n",
    "\n",
    "cv = KFold(n_splits=10,\n",
    "           shuffle=True,\n",
    "           random_state=0) # use same splits for each degree\n",
    "\n",
    "X, Y = individual_NEA.drop(columns=['completo']), individual_NEA['completo']\n",
    "cv_results = cross_validate(hp_model,\n",
    "                            X,\n",
    "                            Y,\n",
    "                            cv=cv)\n",
    "cv_err = np.mean(cv_results['test_score'])\n",
    "cv_err\n"
   ]
  },
  {
   "cell_type": "code",
   "execution_count": null,
   "id": "95fdeb10-4d1a-43ff-aa5e-d0030ab35cde",
   "metadata": {},
   "outputs": [],
   "source": []
  }
 ],
 "metadata": {
  "kernelspec": {
   "display_name": "Python 3 (ipykernel)",
   "language": "python",
   "name": "python3"
  },
  "language_info": {
   "codemirror_mode": {
    "name": "ipython",
    "version": 3
   },
   "file_extension": ".py",
   "mimetype": "text/x-python",
   "name": "python",
   "nbconvert_exporter": "python",
   "pygments_lexer": "ipython3",
   "version": "3.12.9"
  }
 },
 "nbformat": 4,
 "nbformat_minor": 5
}
